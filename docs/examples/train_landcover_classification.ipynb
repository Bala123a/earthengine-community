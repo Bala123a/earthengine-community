{
  "cells": [
    {
      "cell_type": "markdown",
      "metadata": {
        "vscode": {
          "languageId": "raw"
        },
        "id": "EVQYwLMeX2sn"
      },
      "source": [
        "# Train a Land Cover Classification Model\n",
        "\n",
        "[![image](https://colab.research.google.com/assets/colab-badge.svg)](https://colab.research.google.com/github/opengeos/geoai/blob/main/docs/examples/train_landcover_classification.ipynb)\n",
        "\n",
        "## Install packages\n",
        "\n",
        "To use the new functionality, ensure the required packages are installed."
      ]
    },
    {
      "cell_type": "code",
      "execution_count": 1,
      "metadata": {
        "id": "3ldagiTUX2sr"
      },
      "outputs": [],
      "source": [
        "# %pip install geoai-py"
      ]
    },
    {
      "cell_type": "markdown",
      "metadata": {
        "vscode": {
          "languageId": "raw"
        },
        "id": "_XTMRqFFX2ss"
      },
      "source": [
        "## Import libraries"
      ]
    },
    {
      "cell_type": "code",
      "execution_count": 2,
      "metadata": {
        "id": "vcn9OFPIX2st",
        "outputId": "0c7f9736-a989-4642-ae1b-5d36b27dd202",
        "colab": {
          "base_uri": "https://localhost:8080/",
          "height": 315
        }
      },
      "outputs": [
        {
          "output_type": "error",
          "ename": "ModuleNotFoundError",
          "evalue": "No module named 'geoai'",
          "traceback": [
            "\u001b[0;31m---------------------------------------------------------------------------\u001b[0m",
            "\u001b[0;31mModuleNotFoundError\u001b[0m                       Traceback (most recent call last)",
            "\u001b[0;32m/tmp/ipython-input-2-76862300.py\u001b[0m in \u001b[0;36m<cell line: 0>\u001b[0;34m()\u001b[0m\n\u001b[0;32m----> 1\u001b[0;31m \u001b[0;32mimport\u001b[0m \u001b[0mgeoai\u001b[0m\u001b[0;34m\u001b[0m\u001b[0;34m\u001b[0m\u001b[0m\n\u001b[0m",
            "\u001b[0;31mModuleNotFoundError\u001b[0m: No module named 'geoai'",
            "",
            "\u001b[0;31m---------------------------------------------------------------------------\u001b[0;32m\nNOTE: If your import is failing due to a missing package, you can\nmanually install dependencies using either !pip or !apt.\n\nTo view examples of installing some common dependencies, click the\n\"Open Examples\" button below.\n\u001b[0;31m---------------------------------------------------------------------------\u001b[0m\n"
          ],
          "errorDetails": {
            "actions": [
              {
                "action": "open_url",
                "actionText": "Open Examples",
                "url": "/notebooks/snippets/importing_libraries.ipynb"
              }
            ]
          }
        }
      ],
      "source": [
        "import geoai"
      ]
    },
    {
      "cell_type": "markdown",
      "metadata": {
        "id": "wQ4htEmYX2st"
      },
      "source": [
        "## Download sample data"
      ]
    },
    {
      "cell_type": "code",
      "execution_count": null,
      "metadata": {
        "id": "UdysY_iOX2su"
      },
      "outputs": [],
      "source": [
        "train_raster_url = \"https://huggingface.co/datasets/giswqs/geospatial/resolve/main/m_3807511_ne_18_060_20181104.tif\"\n",
        "train_landcover_url = \"https://huggingface.co/datasets/giswqs/geospatial/resolve/main/m_3807511_ne_18_060_20181104_landcover.tif\"\n",
        "test_raster_url = \"https://huggingface.co/datasets/giswqs/geospatial/resolve/main/m_3807511_se_18_060_20181104.tif\""
      ]
    },
    {
      "cell_type": "code",
      "execution_count": null,
      "metadata": {
        "id": "KQyvP5TnX2su"
      },
      "outputs": [],
      "source": [
        "train_raster_path = geoai.download_file(train_raster_url)\n",
        "train_landcover_path = geoai.download_file(train_landcover_url)\n",
        "test_raster_path = geoai.download_file(test_raster_url)"
      ]
    },
    {
      "cell_type": "markdown",
      "metadata": {
        "id": "le-3hd_9X2sv"
      },
      "source": [
        "## Visualize sample data"
      ]
    },
    {
      "cell_type": "code",
      "execution_count": null,
      "metadata": {
        "id": "t2JlvujmX2sw"
      },
      "outputs": [],
      "source": [
        "geoai.view_raster(train_landcover_url, basemap=train_raster_url)"
      ]
    },
    {
      "cell_type": "code",
      "execution_count": null,
      "metadata": {
        "id": "8mQjQlXzX2sw"
      },
      "outputs": [],
      "source": [
        "geoai.view_raster(test_raster_url)"
      ]
    },
    {
      "cell_type": "markdown",
      "metadata": {
        "vscode": {
          "languageId": "raw"
        },
        "id": "stcrtB0fX2sx"
      },
      "source": [
        "## Create training data\n",
        "\n",
        "We will use the NAIP dataset for land cover classification. The classification scheme is adopted from the [Chesapeake Land Cover](https://planetarycomputer.microsoft.com/dataset/chesapeake-lc-13) project.\n",
        "\n",
        "**Important Note for Land Cover Classification:**\n",
        "- Your label images should contain integer class values (0, 1, 2, ..., 13 for 13 classes)\n",
        "- Do NOT use binary masks - the training code now properly handles multi-class labels\n",
        "- Class 0 is typically background, classes 1-12 are your land cover types"
      ]
    },
    {
      "cell_type": "code",
      "execution_count": null,
      "metadata": {
        "id": "3l08oBkLX2sx"
      },
      "outputs": [],
      "source": [
        "out_folder = \"landcover\"\n",
        "tiles = geoai.export_geotiff_tiles(\n",
        "    in_raster=train_raster_path,\n",
        "    out_folder=out_folder,\n",
        "    in_class_data=train_landcover_path,\n",
        "    tile_size=512,\n",
        "    stride=256,\n",
        "    buffer_radius=0,\n",
        ")"
      ]
    },
    {
      "cell_type": "markdown",
      "metadata": {
        "vscode": {
          "languageId": "raw"
        },
        "id": "hBfn4l2lX2sx"
      },
      "source": [
        "## Train semantic segmentation model\n",
        "\n",
        "Now we'll train a semantic segmentation model using the new `train_object_detection` function. This function supports various architectures from `segmentation-models-pytorch`:\n",
        "\n",
        "- **Architectures**: `unet`, `deeplabv3`, `deeplabv3plus`, `fpn`, `pspnet`, `linknet`, `manet`\n",
        "- **Encoders**: `resnet34`, `resnet50`, `efficientnet-b0`, `mobilenet_v2`, etc."
      ]
    },
    {
      "cell_type": "code",
      "execution_count": null,
      "metadata": {
        "id": "6Fr-YODvX2sy"
      },
      "outputs": [],
      "source": [
        "# Train U-Net model\n",
        "geoai.train_segmentation_model(\n",
        "    images_dir=f\"{out_folder}/images\",\n",
        "    labels_dir=f\"{out_folder}/labels\",\n",
        "    output_dir=f\"{out_folder}/unet_models\",\n",
        "    architecture=\"unet\",\n",
        "    encoder_name=\"resnet34\",\n",
        "    encoder_weights=\"imagenet\",\n",
        "    num_channels=4,\n",
        "    num_classes=13,\n",
        "    batch_size=8,\n",
        "    num_epochs=50,\n",
        "    learning_rate=0.001,\n",
        "    val_split=0.2,\n",
        "    verbose=True,\n",
        "    plot_curves=True,\n",
        ")"
      ]
    },
    {
      "cell_type": "markdown",
      "metadata": {
        "vscode": {
          "languageId": "raw"
        },
        "id": "P7GFJQvZX2sy"
      },
      "source": [
        "## Run inference\n",
        "\n",
        "Now we'll use the trained model to make predictions on the test image."
      ]
    },
    {
      "cell_type": "code",
      "execution_count": null,
      "metadata": {
        "id": "K-a6gZSZX2sy"
      },
      "outputs": [],
      "source": [
        "# Define paths\n",
        "masks_path = \"naip_test_semantic_prediction.tif\"\n",
        "model_path = f\"{out_folder}/unet_models/best_model.pth\""
      ]
    },
    {
      "cell_type": "code",
      "execution_count": null,
      "metadata": {
        "id": "SbGFhfkvX2sz"
      },
      "outputs": [],
      "source": [
        "# Run semantic segmentation inference\n",
        "geoai.semantic_segmentation(\n",
        "    input_path=test_raster_path,\n",
        "    output_path=masks_path,\n",
        "    model_path=model_path,\n",
        "    architecture=\"unet\",\n",
        "    encoder_name=\"resnet34\",\n",
        "    num_channels=4,\n",
        "    num_classes=13,\n",
        "    window_size=512,\n",
        "    overlap=256,\n",
        "    batch_size=4,\n",
        ")"
      ]
    },
    {
      "cell_type": "markdown",
      "metadata": {
        "id": "r6F9L4IjX2sz"
      },
      "source": [
        "## Visualize results"
      ]
    },
    {
      "cell_type": "code",
      "execution_count": null,
      "metadata": {
        "id": "fbrqRVDaX2sz"
      },
      "outputs": [],
      "source": [
        "geoai.write_colormap(masks_path, train_landcover_path, output=masks_path)"
      ]
    },
    {
      "cell_type": "code",
      "execution_count": null,
      "metadata": {
        "id": "ZMg5axyzX2s0"
      },
      "outputs": [],
      "source": [
        "geoai.view_raster(masks_path, basemap=test_raster_url)"
      ]
    }
  ],
  "metadata": {
    "kernelspec": {
      "display_name": "geo",
      "language": "python",
      "name": "python3"
    },
    "language_info": {
      "codemirror_mode": {
        "name": "ipython",
        "version": 3
      },
      "file_extension": ".py",
      "mimetype": "text/x-python",
      "name": "python",
      "nbconvert_exporter": "python",
      "pygments_lexer": "ipython3",
      "version": "3.12.2"
    },
    "colab": {
      "provenance": []
    }
  },
  "nbformat": 4,
  "nbformat_minor": 0
}