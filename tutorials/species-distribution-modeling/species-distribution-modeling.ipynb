{
  "nbformat": 4,
  "nbformat_minor": 0,
  "metadata": {
    "colab": {
      "name": "Species Distribution Modeling",
      "provenance": []
    },
    "kernelspec": {
      "name": "python3",
      "display_name": "Python 3"
    }
  },
  "cells": [
    {
      "cell_type": "code",
      "metadata": {
        "id": "8kdsGkYJXXKc"
      },
      "source": [
        "#@title Copyright 2023 The Earth Engine Community Authors { display-mode: \"form\" }\n",
        "#\n",
        "# Licensed under the Apache License, Version 2.0 (the \"License\");\n",
        "# you may not use this file except in compliance with the License.\n",
        "# You may obtain a copy of the License at\n",
        "#\n",
        "# https://www.apache.org/licenses/LICENSE-2.0\n",
        "#\n",
        "# Unless required by applicable law or agreed to in writing, software\n",
        "# distributed under the License is distributed on an \"AS IS\" BASIS,\n",
        "# WITHOUT WARRANTIES OR CONDITIONS OF ANY KIND, either express or implied.\n",
        "# See the License for the specific language governing permissions and\n",
        "# limitations under the License."
      ],
      "execution_count": 1,
      "outputs": []
    },
    {
      "cell_type": "markdown",
      "metadata": {
        "id": "l18M9_r5XmAQ"
      },
      "source": [
        "# Species Distribtuion Modeling\n",
        "Author: Byeong-Hyeok Yu\n",
        "\n",
        "In this tutorial, the methodology of Species Distribution Modeling using Google Earth Engine will be introduced. A brief overview of Species Distribution Modeling  will be provided, followed by the process of predicting and analyzing the habitat of an endangered bird species known as the Fairy pitta (scientific name: *Pitta nympha*)."
      ]
    },
    {
      "cell_type": "markdown",
      "metadata": {
        "id": "U7i55vr_aKCB"
      },
      "source": [
        "### Run me first\n",
        "\n",
        "Run the following cell to initialize the API. The output will contain instructions on how to grant this notebook access to Earth Engine using your account."
      ]
    },
    {
      "cell_type": "code",
      "metadata": {
        "id": "XeFsiSp2aDL6"
      },
      "source": [
        "import ee\n",
        "\n",
        "# Trigger the authentication flow.\n",
        "ee.Authenticate()\n",
        "\n",
        "# Initialize the library.\n",
        "# ee.Initialize(project='my-project')\n",
        "ee.Initialize(project='ee-foss4g')"
      ],
      "execution_count": 2,
      "outputs": []
    },
    {
      "cell_type": "markdown",
      "metadata": {
        "id": "VOf_UnIcZKBJ"
      },
      "source": [
        "## A brief overview of Species Distribution Modeling\n",
        "\n",
        "Let's explore what species distribution models are, the advantages of using Google Earth Engine for their processing, the required data for the models, and how the workflow is structured.\n",
        "\n",
        "### What is Species Distribution Modeling?\n",
        "\n",
        "Species Distribution Modeling (SDM below) is the most common methodology used to estimate the actual or potential geographic distribution of a species. It involves characterizing the environmental conditions suitable for a particular species and then identifying where these suitable conditions are distributed geographically.\n",
        "\n",
        "SDM has emerged as a crucial component of conservation planning in recent years, and various modeling techniques have been developed for this purpose. Implementing SDM in Google Earth Engine provides easy access to large-scale environmental data, along with powerful computing capabilities and support for machine learning algorithms, allowing for rapid modeling.\n",
        "\n",
        "In this tutorial, we will explore the implementation of species distribution modeling using Google Earth Engine.\n",
        "\n",
        "\n",
        "Before starting work on your tutorial:\n",
        "\n",
        "1. If you haven't already, [Join GitHub](https://github.com/join).\n",
        "\n",
        "1. File a [Tutorial proposal](TODO) to discuss your idea with the maintainers.\n",
        "\n",
        "1. Once your proposal is approved, [fork the Earth Engine Community repository](https://github.com/google/earthengine-community/fork) to your personal account.\n",
        "\n",
        "1. In Colab, click \"File > Save a copy in GitHub\", granting Colab permission to write to your personal repo as necessary.\n",
        "\n",
        "  > Note: Pull requests are linked to the branch from which they were created. If you plan to have more than one tutorial out for review at a time, you will need to create a separate branch for each pull request ([instructions](https://help.github.com/en/github/collaborating-with-issues-and-pull-requests/creating-and-deleting-branches-within-your-repository)).\n",
        "\n",
        "1. In the \"Copy to GitHub\" dialog that appears, select the `master` branch of the fork created above.\n",
        "\n",
        "1. Enter the \"File path\" as follows:\n",
        "\n",
        "   ```\n",
        "   tutorials/your-tutorial-name/index.ipynb\n",
        "   ```\n",
        "\n",
        "   Replace `your-tutorial-name` with a short filename, using only lowercase letters, numbers, and \"-\", preserving the \".ipynb\" extension.\n",
        "\n",
        "1. Write your tutorial directly in the notebook, leaving the copyright cell intact, and updating the title cell.\n",
        "\n",
        "### Adding images\n",
        "\n",
        "Images should be uploaded to your fork in GitHub under the `tutorials/your-tutorial-name` folder created above. Images must be directly under that directory; nested subdirectories are not allowed (e.g., \"`tutorials/your-tutorial-name/`~`img/`~`cool-viz.jpg`\").\n",
        "\n",
        "To refer to images uploaded in your tutorial, use Markdown's image syntax, referring to the filename of the image, without specifying its absolute path or full URL. For example:\n",
        "\n",
        "```md\n",
        "![alt text](my-awesome-viz.jpg)\n",
        "```\n",
        "\n",
        "### Submitting tutorial for review\n",
        "\n",
        "Once your tutorial is ready for review:\n",
        "\n",
        "1. Follow GitHub's instructions on [creating a pull request](https://help.github.com/en/github/collaborating-with-issues-and-pull-requests/creating-a-pull-request-from-a-fork) to request a review.\n",
        "\n",
        "1. Reviewer(s) will be assigned to review your notebook. Work with them to finalize its content. Once ready, the Earth Engine Community maintainers will approve, merge, and publish your tutorial in the [Earth Engine developers documentation](https://developers.google.com/earth-engine/tutorials/community)."
      ]
    },
    {
      "cell_type": "code",
      "source": [],
      "metadata": {
        "id": "4jbM03uIrjST"
      },
      "execution_count": null,
      "outputs": []
    }
  ]
}