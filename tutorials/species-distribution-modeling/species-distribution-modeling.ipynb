{
  "nbformat": 4,
  "nbformat_minor": 0,
  "metadata": {
    "colab": {
      "name": "Species Distribution Modeling",
      "provenance": []
    },
    "kernelspec": {
      "name": "python3",
      "display_name": "Python 3"
    }
  },
  "cells": [
    {
      "cell_type": "code",
      "metadata": {
        "id": "8kdsGkYJXXKc",
        "colab": {
          "base_uri": "https://localhost:8080/",
          "height": 17
        },
        "outputId": "ea49ceb7-2fdf-4929-a5bf-a3bd2536fe8f"
      },
      "source": [
        "#@title Copyright 2023 The Earth Engine Community Authors { display-mode: \"form\" }\n",
        "#\n",
        "# Licensed under the Apache License, Version 2.0 (the \"License\");\n",
        "# you may not use this file except in compliance with the License.\n",
        "# You may obtain a copy of the License at\n",
        "#\n",
        "# https://www.apache.org/licenses/LICENSE-2.0\n",
        "#\n",
        "# Unless required by applicable law or agreed to in writing, software\n",
        "# distributed under the License is distributed on an \"AS IS\" BASIS,\n",
        "# WITHOUT WARRANTIES OR CONDITIONS OF ANY KIND, either express or implied.\n",
        "# See the License for the specific language governing permissions and\n",
        "# limitations under the License."
      ],
      "execution_count": 4,
      "outputs": [
        {
          "output_type": "display_data",
          "data": {
            "text/plain": [
              "<IPython.core.display.HTML object>"
            ],
            "text/html": [
              "\n",
              "            <style>\n",
              "                .geemap-dark {\n",
              "                    --jp-widgets-color: white;\n",
              "                    --jp-widgets-label-color: white;\n",
              "                    --jp-ui-font-color1: white;\n",
              "                    --jp-layout-color2: #454545;\n",
              "                    background-color: #383838;\n",
              "                }\n",
              "                    \n",
              "                .geemap-dark .jupyter-button {\n",
              "                    --jp-layout-color3: #383838;\n",
              "                }\n",
              "                \n",
              "                .geemap-colab {\n",
              "                    background-color: var(--colab-primary-surface-color, white);\n",
              "                }\n",
              "                    \n",
              "                .geemap-colab .jupyter-button {\n",
              "                    --jp-layout-color3: var(--colab-primary-surface-color, white);\n",
              "                }\n",
              "            </style>\n",
              "            "
            ]
          },
          "metadata": {}
        }
      ]
    },
    {
      "cell_type": "markdown",
      "metadata": {
        "id": "l18M9_r5XmAQ"
      },
      "source": [
        "# Species Distribution Modeling\n",
        "Author: Byeong-Hyeok Yu\n",
        "\n",
        "In this tutorial, the methodology of Species Distribution Modeling using Google Earth Engine will be introduced. A brief overview of Species Distribution Modeling  will be provided, followed by the process of predicting and analyzing the habitat of an endangered bird species known as the Fairy pitta (scientific name: *Pitta nympha*)."
      ]
    },
    {
      "cell_type": "markdown",
      "metadata": {
        "id": "U7i55vr_aKCB"
      },
      "source": [
        "### Run me first\n",
        "\n",
        "Run the following cell to initialize the API. The output will contain instructions on how to grant this notebook access to Earth Engine using your account."
      ]
    },
    {
      "cell_type": "code",
      "metadata": {
        "id": "XeFsiSp2aDL6"
      },
      "source": [
        "import ee\n",
        "\n",
        "# Trigger the authentication flow.\n",
        "ee.Authenticate()\n",
        "\n",
        "# Initialize the library.\n",
        "# ee.Initialize(project='my-project')\n",
        "ee.Initialize(project='ee-foss4g')"
      ],
      "execution_count": 1,
      "outputs": []
    },
    {
      "cell_type": "markdown",
      "metadata": {
        "id": "VOf_UnIcZKBJ"
      },
      "source": [
        "## A brief overview of Species Distribution Modeling\n",
        "\n",
        "Let's explore what species distribution models are, the advantages of using Google Earth Engine for their processing, the required data for the models, and how the workflow is structured.\n",
        "\n",
        "### What is Species Distribution Modeling?\n",
        "\n",
        "Species Distribution Modeling (SDM below) is the most common methodology used to estimate the actual or potential geographic distribution of a species. It involves characterizing the environmental conditions suitable for a particular species and then identifying where these suitable conditions are distributed geographically.\n",
        "\n",
        "SDM has emerged as a crucial component of conservation planning in recent years, and various modeling techniques have been developed for this purpose. Implementing SDM in Google Earth Engine (GEE below) provides easy access to large-scale environmental data, along with powerful computing capabilities and support for machine learning algorithms, allowing for rapid modeling.\n",
        "\n",
        "  > Note: Conservation biologist Dr. Ramiro D. Crego implemented SDM using the GEE JavaScript Code Editor and published his research findings [(Crego et al, 2022)](https://onlinelibrary.wiley.com/doi/10.1111/ddi.13491). The methodology of SDM introduced here has been translated and modified from the [JavaScript source code](https://smithsonian.github.io/SDMinGEE/) he shared into the Python language.\n",
        "\n",
        "### Data Required for SDM\n",
        "\n",
        "SDM typically utilizes the relationship between known species occurrence records and environmental variables to identify the conditions under which a population can sustain. In other words, two types of model input data are required:\n",
        "\n",
        "1. Occurrence records of known species\n",
        "1. Various environmental variables\n",
        "\n",
        "These data are input into algorithms to identify environmental conditions associated with the presence of species.\n",
        "\n",
        "### Workflow of SDM using GEE\n",
        "\n",
        "The workflow for SDM using GEE is as follows:\n",
        "\n",
        "1. Collection and preprocessing of species occurrence data\n",
        "1. Definition of the area of interest\n",
        "1. Addition of GEE environmental variables\n",
        "1. Generation of pseudo-absence data\n",
        "1. Model fitting and prediction\n",
        "1. Variable importance and accuracy assessment"
      ]
    },
    {
      "cell_type": "markdown",
      "source": [
        "## Habitat Prediction and Analysis Using GEE\n",
        "\n",
        "The [Fairy pitta (*Pitta nympha*)](https://datazone.birdlife.org/species/factsheet/22698684) will be used as a case study to demonstrate the application of GEE-based SDM. While this specific species has been selected for one example, researchers can apply the methodology to any target species of interest with slight modifications to the provided source code.\n",
        "\n",
        "The Fairy pitta is a rare summer migrant and passage migrant in South Korea, whose distribution area is expanding due to recent climate warming on the Korean Peninsula. It is classified as a rare species, endangered wildlife of class II, Natural Monument No. 204, evaluated as Regionally Extinct (RE) in the National Red List, and Vulnerable (VU) according to the IUCN categories.\n",
        "\n",
        "Conducting SDM for the conservation planning of the Fairy pitta appears to be quite valuable. Now, let's proceed with habitat prediction and analysis through GEE."
      ],
      "metadata": {
        "id": "tjomxWfVcTmN"
      }
    },
    {
      "cell_type": "markdown",
      "source": [
        "First, the Python libraries are imported.The `import` statement brings in the entire contents of a module, while the `from import` statement allows for the importation of specific objects from a module."
      ],
      "metadata": {
        "id": "pViK9PM-gLjh"
      }
    },
    {
      "cell_type": "code",
      "source": [
        "# Import libraries\n",
        "import geemap\n",
        "\n",
        "import geemap.colormaps as cm\n",
        "import pandas as pd, geopandas as gpd\n",
        "import numpy as np, matplotlib.pyplot as plt\n",
        "import os, requests, math, random\n",
        "\n",
        "from ipyleaflet import TileLayer\n",
        "from statsmodels.stats.outliers_influence import variance_inflation_factor"
      ],
      "metadata": {
        "id": "4jbM03uIrjST",
        "colab": {
          "base_uri": "https://localhost:8080/",
          "height": 17
        },
        "outputId": "baa5449b-af0f-4c39-f086-535c984f0509"
      },
      "execution_count": 3,
      "outputs": [
        {
          "output_type": "display_data",
          "data": {
            "text/plain": [
              "<IPython.core.display.HTML object>"
            ],
            "text/html": [
              "\n",
              "            <style>\n",
              "                .geemap-dark {\n",
              "                    --jp-widgets-color: white;\n",
              "                    --jp-widgets-label-color: white;\n",
              "                    --jp-ui-font-color1: white;\n",
              "                    --jp-layout-color2: #454545;\n",
              "                    background-color: #383838;\n",
              "                }\n",
              "                    \n",
              "                .geemap-dark .jupyter-button {\n",
              "                    --jp-layout-color3: #383838;\n",
              "                }\n",
              "                \n",
              "                .geemap-colab {\n",
              "                    background-color: var(--colab-primary-surface-color, white);\n",
              "                }\n",
              "                    \n",
              "                .geemap-colab .jupyter-button {\n",
              "                    --jp-layout-color3: var(--colab-primary-surface-color, white);\n",
              "                }\n",
              "            </style>\n",
              "            "
            ]
          },
          "metadata": {}
        }
      ]
    },
    {
      "cell_type": "markdown",
      "source": [
        "### Collection and Preprocessing of Species Occurrence Data\n",
        "\n",
        "Now, let's collect occurrence data for the Fairy pitta. Even if you don't currently have access to occurrence data for the species of interest, you can obtain observational data about specific species through the GBIF API. The [GBIF API](https://techdocs.gbif.org/en/openapi/) is an interface that allows access to the species distribution data provided by GBIF, enabling users to search, filter, and download data, as well as acquire various information related to species.\n",
        "\n",
        "In the code below, the `species_name` variable is assigned the scientific name of the species (e.g. *Pitta nympha* for Fairy pitta), and the `country_code` variable is assigned the country code (e.g. KR for South Korea). The `base_url` variable stores the address of the GBIF API. `params` is a dictionary containing parameters to be used in the API request:\n",
        "\n",
        "* `scientificName`: Sets the scientific name of the species to be searched.\n",
        "* `country`: Limits the search to a specific country.\n",
        "* `hasCoordinate`: Ensures only data with coordinates (true) are searched.\n",
        "* `basisOfRecord`: Chooses only records of human observation (`HUMAN_OBSERVATION`).\n",
        "* `limit`: Sets the maximum number of results returned to 10000."
      ],
      "metadata": {
        "id": "SRrwa4ROghr9"
      }
    },
    {
      "cell_type": "code",
      "source": [
        "def get_gbif_species_data(species_name, country_code):\n",
        "    \"\"\"\n",
        "    Retrieves observational data for a specific species using the GBIF API and returns it as a pandas DataFrame.\n",
        "\n",
        "    Parameters:\n",
        "    species_name (str): The scientific name of the species to query.\n",
        "    country_code (str): The country code of the where the observation data will be queried.\n",
        "\n",
        "    Returns:\n",
        "    pd.DataFrame: A pandas DataFrame containing the observational data.\n",
        "    \"\"\"\n",
        "    base_url = \"https://api.gbif.org/v1/occurrence/search\"\n",
        "    params = {\n",
        "        \"scientificName\": species_name,\n",
        "        \"country\": country_code,\n",
        "        \"hasCoordinate\": \"true\",\n",
        "        \"basisOfRecord\": \"HUMAN_OBSERVATION\",\n",
        "        \"limit\": 10000,\n",
        "    }\n",
        "\n",
        "    try:\n",
        "        response = requests.get(base_url, params=params)\n",
        "        response.raise_for_status()  # Raises an exception for a response error.\n",
        "        data = response.json()\n",
        "        occurrences = data.get(\"results\", [])\n",
        "\n",
        "        if occurrences:  # If data is present\n",
        "            df = pd.json_normalize(occurrences)\n",
        "            return df\n",
        "        else:\n",
        "            print(\"No data found for the given species and country code.\")\n",
        "            return pd.DataFrame()  # Returns an empty DataFrame\n",
        "    except requests.RequestException as e:\n",
        "        print(f\"Request failed: {e}\")\n",
        "        return pd.DataFrame()  # Returns an empty DataFrame in case of an exception"
      ],
      "metadata": {
        "colab": {
          "base_uri": "https://localhost:8080/",
          "height": 17
        },
        "id": "oHtKaH0FgXTz",
        "outputId": "35aaf721-029e-4c34-b35c-06608f1b5250"
      },
      "execution_count": 6,
      "outputs": [
        {
          "output_type": "display_data",
          "data": {
            "text/plain": [
              "<IPython.core.display.HTML object>"
            ],
            "text/html": [
              "\n",
              "            <style>\n",
              "                .geemap-dark {\n",
              "                    --jp-widgets-color: white;\n",
              "                    --jp-widgets-label-color: white;\n",
              "                    --jp-ui-font-color1: white;\n",
              "                    --jp-layout-color2: #454545;\n",
              "                    background-color: #383838;\n",
              "                }\n",
              "                    \n",
              "                .geemap-dark .jupyter-button {\n",
              "                    --jp-layout-color3: #383838;\n",
              "                }\n",
              "                \n",
              "                .geemap-colab {\n",
              "                    background-color: var(--colab-primary-surface-color, white);\n",
              "                }\n",
              "                    \n",
              "                .geemap-colab .jupyter-button {\n",
              "                    --jp-layout-color3: var(--colab-primary-surface-color, white);\n",
              "                }\n",
              "            </style>\n",
              "            "
            ]
          },
          "metadata": {}
        }
      ]
    },
    {
      "cell_type": "markdown",
      "source": [
        "Using the parameters set previously, we query the GBIF API for observational records of the Fairy pitta (*Pitta nympha*), and load the results into a DataFrame to check the first row. A DataFrame is a data structure for handling table-formatted data, consisting of rows and columns. If necessary, the DataFrame can be saved as a CSV file and read back in."
      ],
      "metadata": {
        "id": "Zs5ZUfZUnjZ2"
      }
    },
    {
      "cell_type": "code",
      "source": [
        "# Retrieve Fairy Pitta data\n",
        "df = get_gbif_species_data(\"Pitta nympha\", \"KR\")\n",
        "\"\"\"\n",
        "# Save DataFrame to CSV and read back in.\n",
        "df.to_csv(\"pitta_nympha_data.csv\", index=False)\n",
        "df = pd.read_csv(\"pitta_nympha_data.csv\")\n",
        "\"\"\"\n",
        "df.head(1)  # Display the first row of the DataFrame"
      ],
      "metadata": {
        "id": "Mx-DjtGNnUXk",
        "outputId": "95a3b0ee-25cb-4547-cb3b-8da17eed9fff",
        "colab": {
          "base_uri": "https://localhost:8080/",
          "height": 182
        }
      },
      "execution_count": 8,
      "outputs": [
        {
          "output_type": "display_data",
          "data": {
            "text/plain": [
              "<IPython.core.display.HTML object>"
            ],
            "text/html": [
              "\n",
              "            <style>\n",
              "                .geemap-dark {\n",
              "                    --jp-widgets-color: white;\n",
              "                    --jp-widgets-label-color: white;\n",
              "                    --jp-ui-font-color1: white;\n",
              "                    --jp-layout-color2: #454545;\n",
              "                    background-color: #383838;\n",
              "                }\n",
              "                    \n",
              "                .geemap-dark .jupyter-button {\n",
              "                    --jp-layout-color3: #383838;\n",
              "                }\n",
              "                \n",
              "                .geemap-colab {\n",
              "                    background-color: var(--colab-primary-surface-color, white);\n",
              "                }\n",
              "                    \n",
              "                .geemap-colab .jupyter-button {\n",
              "                    --jp-layout-color3: var(--colab-primary-surface-color, white);\n",
              "                }\n",
              "            </style>\n",
              "            "
            ]
          },
          "metadata": {}
        },
        {
          "output_type": "execute_result",
          "data": {
            "text/plain": [
              "          key                            datasetKey  \\\n",
              "0  4126765284  50c9509d-22c7-4a22-a47d-8c48425ef4a7   \n",
              "\n",
              "                       publishingOrgKey                       installationKey  \\\n",
              "0  28eb1a3f-1c15-4a95-931a-4af90ecb574d  997448a8-f762-11e1-a439-00145eb45e9a   \n",
              "\n",
              "                 hostingOrganizationKey publishingCountry     protocol  \\\n",
              "0  28eb1a3f-1c15-4a95-931a-4af90ecb574d                US  DWC_ARCHIVE   \n",
              "\n",
              "                     lastCrawled                     lastParsed  crawlId  ...  \\\n",
              "0  2024-01-23T16:28:21.693+00:00  2024-01-25T09:13:47.069+00:00      431  ...   \n",
              "\n",
              "  nomenclaturalCode fieldNotes  behavior  verbatimElevation  \\\n",
              "0               NaN        NaN       NaN                NaN   \n",
              "\n",
              "   higherClassification  extensions.http://rs.tdwg.org/ac/terms/Multimedia  \\\n",
              "0                   NaN                                                NaN   \n",
              "\n",
              "   distanceFromCentroidInMeters  associatedTaxa  lifeStage  occurrenceRemarks  \n",
              "0                           NaN             NaN        NaN                NaN  \n",
              "\n",
              "[1 rows x 110 columns]"
            ],
            "text/html": [
              "\n",
              "  <div id=\"df-13420b62-a78a-44f9-8f4c-eefb76ba0e64\" class=\"colab-df-container\">\n",
              "    <div>\n",
              "<style scoped>\n",
              "    .dataframe tbody tr th:only-of-type {\n",
              "        vertical-align: middle;\n",
              "    }\n",
              "\n",
              "    .dataframe tbody tr th {\n",
              "        vertical-align: top;\n",
              "    }\n",
              "\n",
              "    .dataframe thead th {\n",
              "        text-align: right;\n",
              "    }\n",
              "</style>\n",
              "<table border=\"1\" class=\"dataframe\">\n",
              "  <thead>\n",
              "    <tr style=\"text-align: right;\">\n",
              "      <th></th>\n",
              "      <th>key</th>\n",
              "      <th>datasetKey</th>\n",
              "      <th>publishingOrgKey</th>\n",
              "      <th>installationKey</th>\n",
              "      <th>hostingOrganizationKey</th>\n",
              "      <th>publishingCountry</th>\n",
              "      <th>protocol</th>\n",
              "      <th>lastCrawled</th>\n",
              "      <th>lastParsed</th>\n",
              "      <th>crawlId</th>\n",
              "      <th>...</th>\n",
              "      <th>nomenclaturalCode</th>\n",
              "      <th>fieldNotes</th>\n",
              "      <th>behavior</th>\n",
              "      <th>verbatimElevation</th>\n",
              "      <th>higherClassification</th>\n",
              "      <th>extensions.http://rs.tdwg.org/ac/terms/Multimedia</th>\n",
              "      <th>distanceFromCentroidInMeters</th>\n",
              "      <th>associatedTaxa</th>\n",
              "      <th>lifeStage</th>\n",
              "      <th>occurrenceRemarks</th>\n",
              "    </tr>\n",
              "  </thead>\n",
              "  <tbody>\n",
              "    <tr>\n",
              "      <th>0</th>\n",
              "      <td>4126765284</td>\n",
              "      <td>50c9509d-22c7-4a22-a47d-8c48425ef4a7</td>\n",
              "      <td>28eb1a3f-1c15-4a95-931a-4af90ecb574d</td>\n",
              "      <td>997448a8-f762-11e1-a439-00145eb45e9a</td>\n",
              "      <td>28eb1a3f-1c15-4a95-931a-4af90ecb574d</td>\n",
              "      <td>US</td>\n",
              "      <td>DWC_ARCHIVE</td>\n",
              "      <td>2024-01-23T16:28:21.693+00:00</td>\n",
              "      <td>2024-01-25T09:13:47.069+00:00</td>\n",
              "      <td>431</td>\n",
              "      <td>...</td>\n",
              "      <td>NaN</td>\n",
              "      <td>NaN</td>\n",
              "      <td>NaN</td>\n",
              "      <td>NaN</td>\n",
              "      <td>NaN</td>\n",
              "      <td>NaN</td>\n",
              "      <td>NaN</td>\n",
              "      <td>NaN</td>\n",
              "      <td>NaN</td>\n",
              "      <td>NaN</td>\n",
              "    </tr>\n",
              "  </tbody>\n",
              "</table>\n",
              "<p>1 rows × 110 columns</p>\n",
              "</div>\n",
              "    <div class=\"colab-df-buttons\">\n",
              "\n",
              "  <div class=\"colab-df-container\">\n",
              "    <button class=\"colab-df-convert\" onclick=\"convertToInteractive('df-13420b62-a78a-44f9-8f4c-eefb76ba0e64')\"\n",
              "            title=\"Convert this dataframe to an interactive table.\"\n",
              "            style=\"display:none;\">\n",
              "\n",
              "  <svg xmlns=\"http://www.w3.org/2000/svg\" height=\"24px\" viewBox=\"0 -960 960 960\">\n",
              "    <path d=\"M120-120v-720h720v720H120Zm60-500h600v-160H180v160Zm220 220h160v-160H400v160Zm0 220h160v-160H400v160ZM180-400h160v-160H180v160Zm440 0h160v-160H620v160ZM180-180h160v-160H180v160Zm440 0h160v-160H620v160Z\"/>\n",
              "  </svg>\n",
              "    </button>\n",
              "\n",
              "  <style>\n",
              "    .colab-df-container {\n",
              "      display:flex;\n",
              "      gap: 12px;\n",
              "    }\n",
              "\n",
              "    .colab-df-convert {\n",
              "      background-color: #E8F0FE;\n",
              "      border: none;\n",
              "      border-radius: 50%;\n",
              "      cursor: pointer;\n",
              "      display: none;\n",
              "      fill: #1967D2;\n",
              "      height: 32px;\n",
              "      padding: 0 0 0 0;\n",
              "      width: 32px;\n",
              "    }\n",
              "\n",
              "    .colab-df-convert:hover {\n",
              "      background-color: #E2EBFA;\n",
              "      box-shadow: 0px 1px 2px rgba(60, 64, 67, 0.3), 0px 1px 3px 1px rgba(60, 64, 67, 0.15);\n",
              "      fill: #174EA6;\n",
              "    }\n",
              "\n",
              "    .colab-df-buttons div {\n",
              "      margin-bottom: 4px;\n",
              "    }\n",
              "\n",
              "    [theme=dark] .colab-df-convert {\n",
              "      background-color: #3B4455;\n",
              "      fill: #D2E3FC;\n",
              "    }\n",
              "\n",
              "    [theme=dark] .colab-df-convert:hover {\n",
              "      background-color: #434B5C;\n",
              "      box-shadow: 0px 1px 3px 1px rgba(0, 0, 0, 0.15);\n",
              "      filter: drop-shadow(0px 1px 2px rgba(0, 0, 0, 0.3));\n",
              "      fill: #FFFFFF;\n",
              "    }\n",
              "  </style>\n",
              "\n",
              "    <script>\n",
              "      const buttonEl =\n",
              "        document.querySelector('#df-13420b62-a78a-44f9-8f4c-eefb76ba0e64 button.colab-df-convert');\n",
              "      buttonEl.style.display =\n",
              "        google.colab.kernel.accessAllowed ? 'block' : 'none';\n",
              "\n",
              "      async function convertToInteractive(key) {\n",
              "        const element = document.querySelector('#df-13420b62-a78a-44f9-8f4c-eefb76ba0e64');\n",
              "        const dataTable =\n",
              "          await google.colab.kernel.invokeFunction('convertToInteractive',\n",
              "                                                    [key], {});\n",
              "        if (!dataTable) return;\n",
              "\n",
              "        const docLinkHtml = 'Like what you see? Visit the ' +\n",
              "          '<a target=\"_blank\" href=https://colab.research.google.com/notebooks/data_table.ipynb>data table notebook</a>'\n",
              "          + ' to learn more about interactive tables.';\n",
              "        element.innerHTML = '';\n",
              "        dataTable['output_type'] = 'display_data';\n",
              "        await google.colab.output.renderOutput(dataTable, element);\n",
              "        const docLink = document.createElement('div');\n",
              "        docLink.innerHTML = docLinkHtml;\n",
              "        element.appendChild(docLink);\n",
              "      }\n",
              "    </script>\n",
              "  </div>\n",
              "\n",
              "\n",
              "    </div>\n",
              "  </div>\n"
            ]
          },
          "metadata": {},
          "execution_count": 8
        }
      ]
    },
    {
      "cell_type": "markdown",
      "source": [
        "Next, we convert the DataFrame into a GeoDataFrame that includes a column for geographic information (`geometry`) and check the first row. A GeoDataFrame can be saved as a GeoPackage file (*.gpkg) and read back in."
      ],
      "metadata": {
        "id": "TEjSEmK3pfe0"
      }
    },
    {
      "cell_type": "code",
      "source": [
        "# Convert DataFrame to GeoDataFrame\n",
        "gdf = gpd.GeoDataFrame(\n",
        "    df,\n",
        "    geometry=gpd.points_from_xy(df.decimalLongitude,\n",
        "                                df.decimalLatitude),\n",
        "    crs=\"EPSG:4326\"\n",
        ")[[\"species\", \"year\", \"month\", \"geometry\"]]\n",
        "\"\"\"\n",
        "# Convert GeoDataFrame to GeoPackage (requires pycrs module)\n",
        "%pip install -U -q pycrs\n",
        "gdf.to_file(\"pitta_nympha_data.gpkg\", driver=\"GPKG\")\n",
        "gdf = gpd.read_file(\"pitta_nympha_data.gpkg\")\n",
        "\"\"\"\n",
        "gdf.head(1)  # Display the first row of the GeoDataFrame"
      ],
      "metadata": {
        "id": "qjt0jgJCpALg",
        "outputId": "f8850f22-66b4-4cd9-a082-71b919df2ee0",
        "colab": {
          "base_uri": "https://localhost:8080/",
          "height": 81
        }
      },
      "execution_count": 9,
      "outputs": [
        {
          "output_type": "display_data",
          "data": {
            "text/plain": [
              "<IPython.core.display.HTML object>"
            ],
            "text/html": [
              "\n",
              "            <style>\n",
              "                .geemap-dark {\n",
              "                    --jp-widgets-color: white;\n",
              "                    --jp-widgets-label-color: white;\n",
              "                    --jp-ui-font-color1: white;\n",
              "                    --jp-layout-color2: #454545;\n",
              "                    background-color: #383838;\n",
              "                }\n",
              "                    \n",
              "                .geemap-dark .jupyter-button {\n",
              "                    --jp-layout-color3: #383838;\n",
              "                }\n",
              "                \n",
              "                .geemap-colab {\n",
              "                    background-color: var(--colab-primary-surface-color, white);\n",
              "                }\n",
              "                    \n",
              "                .geemap-colab .jupyter-button {\n",
              "                    --jp-layout-color3: var(--colab-primary-surface-color, white);\n",
              "                }\n",
              "            </style>\n",
              "            "
            ]
          },
          "metadata": {}
        },
        {
          "output_type": "execute_result",
          "data": {
            "text/plain": [
              "        species  year  month                    geometry\n",
              "0  Pitta nympha  2023      5  POINT (126.72514 33.20314)"
            ],
            "text/html": [
              "\n",
              "  <div id=\"df-8c1ea7e2-f14d-4848-b471-32602cc5aa9d\" class=\"colab-df-container\">\n",
              "    <div>\n",
              "<style scoped>\n",
              "    .dataframe tbody tr th:only-of-type {\n",
              "        vertical-align: middle;\n",
              "    }\n",
              "\n",
              "    .dataframe tbody tr th {\n",
              "        vertical-align: top;\n",
              "    }\n",
              "\n",
              "    .dataframe thead th {\n",
              "        text-align: right;\n",
              "    }\n",
              "</style>\n",
              "<table border=\"1\" class=\"dataframe\">\n",
              "  <thead>\n",
              "    <tr style=\"text-align: right;\">\n",
              "      <th></th>\n",
              "      <th>species</th>\n",
              "      <th>year</th>\n",
              "      <th>month</th>\n",
              "      <th>geometry</th>\n",
              "    </tr>\n",
              "  </thead>\n",
              "  <tbody>\n",
              "    <tr>\n",
              "      <th>0</th>\n",
              "      <td>Pitta nympha</td>\n",
              "      <td>2023</td>\n",
              "      <td>5</td>\n",
              "      <td>POINT (126.72514 33.20314)</td>\n",
              "    </tr>\n",
              "  </tbody>\n",
              "</table>\n",
              "</div>\n",
              "    <div class=\"colab-df-buttons\">\n",
              "\n",
              "  <div class=\"colab-df-container\">\n",
              "    <button class=\"colab-df-convert\" onclick=\"convertToInteractive('df-8c1ea7e2-f14d-4848-b471-32602cc5aa9d')\"\n",
              "            title=\"Convert this dataframe to an interactive table.\"\n",
              "            style=\"display:none;\">\n",
              "\n",
              "  <svg xmlns=\"http://www.w3.org/2000/svg\" height=\"24px\" viewBox=\"0 -960 960 960\">\n",
              "    <path d=\"M120-120v-720h720v720H120Zm60-500h600v-160H180v160Zm220 220h160v-160H400v160Zm0 220h160v-160H400v160ZM180-400h160v-160H180v160Zm440 0h160v-160H620v160ZM180-180h160v-160H180v160Zm440 0h160v-160H620v160Z\"/>\n",
              "  </svg>\n",
              "    </button>\n",
              "\n",
              "  <style>\n",
              "    .colab-df-container {\n",
              "      display:flex;\n",
              "      gap: 12px;\n",
              "    }\n",
              "\n",
              "    .colab-df-convert {\n",
              "      background-color: #E8F0FE;\n",
              "      border: none;\n",
              "      border-radius: 50%;\n",
              "      cursor: pointer;\n",
              "      display: none;\n",
              "      fill: #1967D2;\n",
              "      height: 32px;\n",
              "      padding: 0 0 0 0;\n",
              "      width: 32px;\n",
              "    }\n",
              "\n",
              "    .colab-df-convert:hover {\n",
              "      background-color: #E2EBFA;\n",
              "      box-shadow: 0px 1px 2px rgba(60, 64, 67, 0.3), 0px 1px 3px 1px rgba(60, 64, 67, 0.15);\n",
              "      fill: #174EA6;\n",
              "    }\n",
              "\n",
              "    .colab-df-buttons div {\n",
              "      margin-bottom: 4px;\n",
              "    }\n",
              "\n",
              "    [theme=dark] .colab-df-convert {\n",
              "      background-color: #3B4455;\n",
              "      fill: #D2E3FC;\n",
              "    }\n",
              "\n",
              "    [theme=dark] .colab-df-convert:hover {\n",
              "      background-color: #434B5C;\n",
              "      box-shadow: 0px 1px 3px 1px rgba(0, 0, 0, 0.15);\n",
              "      filter: drop-shadow(0px 1px 2px rgba(0, 0, 0, 0.3));\n",
              "      fill: #FFFFFF;\n",
              "    }\n",
              "  </style>\n",
              "\n",
              "    <script>\n",
              "      const buttonEl =\n",
              "        document.querySelector('#df-8c1ea7e2-f14d-4848-b471-32602cc5aa9d button.colab-df-convert');\n",
              "      buttonEl.style.display =\n",
              "        google.colab.kernel.accessAllowed ? 'block' : 'none';\n",
              "\n",
              "      async function convertToInteractive(key) {\n",
              "        const element = document.querySelector('#df-8c1ea7e2-f14d-4848-b471-32602cc5aa9d');\n",
              "        const dataTable =\n",
              "          await google.colab.kernel.invokeFunction('convertToInteractive',\n",
              "                                                    [key], {});\n",
              "        if (!dataTable) return;\n",
              "\n",
              "        const docLinkHtml = 'Like what you see? Visit the ' +\n",
              "          '<a target=\"_blank\" href=https://colab.research.google.com/notebooks/data_table.ipynb>data table notebook</a>'\n",
              "          + ' to learn more about interactive tables.';\n",
              "        element.innerHTML = '';\n",
              "        dataTable['output_type'] = 'display_data';\n",
              "        await google.colab.output.renderOutput(dataTable, element);\n",
              "        const docLink = document.createElement('div');\n",
              "        docLink.innerHTML = docLinkHtml;\n",
              "        element.appendChild(docLink);\n",
              "      }\n",
              "    </script>\n",
              "  </div>\n",
              "\n",
              "\n",
              "    </div>\n",
              "  </div>\n"
            ]
          },
          "metadata": {},
          "execution_count": 9
        }
      ]
    },
    {
      "cell_type": "markdown",
      "source": [
        "This time, we have created a function to visualize the distribution of data by year and month from the GeoDataFrame and display it as a graph, which can then be saved as an image file. This allows for the identification of temporal patterns and seasonal variations in species occurrence data, as well as the rapid detection of outliers or quality issues within the data."
      ],
      "metadata": {
        "id": "5Lj919AaqmUq"
      }
    },
    {
      "cell_type": "code",
      "source": [
        "# Visualize the distribution of data by year and month\n",
        "def plot_data_distribution(gdf, h_size=12):\n",
        "\n",
        "    plt.figure(figsize=(h_size, h_size-8))\n",
        "\n",
        "    # Yearly data distribution graph (left)\n",
        "    plt.subplot(1, 2, 1)\n",
        "    year_counts = gdf['year'].value_counts().sort_index()\n",
        "    plt.bar(year_counts.index, year_counts.values)\n",
        "    plt.xlabel('Year')\n",
        "    plt.ylabel('Count')\n",
        "    plt.title('Yearly Data Distribution')\n",
        "\n",
        "    # Display data counts above the bars\n",
        "    for i, count in enumerate(year_counts.values):\n",
        "        plt.text(year_counts.index[i], count, str(count), ha='center', va='bottom')\n",
        "\n",
        "    # Monthly data distribution graph (right)\n",
        "    plt.subplot(1, 2, 2)\n",
        "    month_counts = gdf['month'].value_counts().sort_index()\n",
        "    plt.bar(month_counts.index, month_counts.values)\n",
        "    plt.xlabel('Month')\n",
        "    plt.ylabel('Count')\n",
        "    plt.title('Monthly Data Distribution')\n",
        "\n",
        "    # Display data counts above the bars\n",
        "    for i, count in enumerate(month_counts.values):\n",
        "        plt.text(month_counts.index[i], count, str(count), ha='center', va='bottom')\n",
        "\n",
        "    # Set x-axis ticks as integers\n",
        "    plt.xticks(month_counts.index, map(int, month_counts.index))\n",
        "\n",
        "    # Output the graph\n",
        "    plt.tight_layout()\n",
        "    plt.savefig('data_distribution_plot.png')\n",
        "    plt.show()"
      ],
      "metadata": {
        "id": "N1fS3YuOqOQQ",
        "outputId": "9764ac5e-06f6-4547-ccce-cd4e0f6c8c21",
        "colab": {
          "base_uri": "https://localhost:8080/",
          "height": 17
        }
      },
      "execution_count": 10,
      "outputs": [
        {
          "output_type": "display_data",
          "data": {
            "text/plain": [
              "<IPython.core.display.HTML object>"
            ],
            "text/html": [
              "\n",
              "            <style>\n",
              "                .geemap-dark {\n",
              "                    --jp-widgets-color: white;\n",
              "                    --jp-widgets-label-color: white;\n",
              "                    --jp-ui-font-color1: white;\n",
              "                    --jp-layout-color2: #454545;\n",
              "                    background-color: #383838;\n",
              "                }\n",
              "                    \n",
              "                .geemap-dark .jupyter-button {\n",
              "                    --jp-layout-color3: #383838;\n",
              "                }\n",
              "                \n",
              "                .geemap-colab {\n",
              "                    background-color: var(--colab-primary-surface-color, white);\n",
              "                }\n",
              "                    \n",
              "                .geemap-colab .jupyter-button {\n",
              "                    --jp-layout-color3: var(--colab-primary-surface-color, white);\n",
              "                }\n",
              "            </style>\n",
              "            "
            ]
          },
          "metadata": {}
        }
      ]
    },
    {
      "cell_type": "code",
      "source": [
        "plot_data_distribution(gdf)"
      ],
      "metadata": {
        "id": "SWirf5m2q9Mx",
        "outputId": "6092a17c-eb71-4710-a967-9412ca8e85ee",
        "colab": {
          "base_uri": "https://localhost:8080/",
          "height": 407
        }
      },
      "execution_count": 11,
      "outputs": [
        {
          "output_type": "display_data",
          "data": {
            "text/plain": [
              "<IPython.core.display.HTML object>"
            ],
            "text/html": [
              "\n",
              "            <style>\n",
              "                .geemap-dark {\n",
              "                    --jp-widgets-color: white;\n",
              "                    --jp-widgets-label-color: white;\n",
              "                    --jp-ui-font-color1: white;\n",
              "                    --jp-layout-color2: #454545;\n",
              "                    background-color: #383838;\n",
              "                }\n",
              "                    \n",
              "                .geemap-dark .jupyter-button {\n",
              "                    --jp-layout-color3: #383838;\n",
              "                }\n",
              "                \n",
              "                .geemap-colab {\n",
              "                    background-color: var(--colab-primary-surface-color, white);\n",
              "                }\n",
              "                    \n",
              "                .geemap-colab .jupyter-button {\n",
              "                    --jp-layout-color3: var(--colab-primary-surface-color, white);\n",
              "                }\n",
              "            </style>\n",
              "            "
            ]
          },
          "metadata": {}
        },
        {
          "output_type": "display_data",
          "data": {
            "text/plain": [
              "<Figure size 1200x400 with 2 Axes>"
            ],
            "image/png": "[encoded data removed]"
          },
          "metadata": {}
        }
      ]
    },
    {
      "cell_type": "markdown",
      "source": [
        "The data from 1995 is very sparse, with significant gaps compared to other years, and the months of August and September also have limited samples and exhibit different seasonal characteristics compared to other periods. Excluding this data could contribute to improving the stability and predictive power of the model.\n",
        "\n",
        "However, it's important to note that excluding data may enhance the model's generalization ability, but it could also lead to the loss of valuable information relevant to the research objectives. Therefore, such decisions should be made with careful consideration."
      ],
      "metadata": {
        "id": "vIj9CO1RrCSs"
      }
    },
    {
      "cell_type": "code",
      "source": [
        "# Filtering data by year and month\n",
        "filtered_gdf = gdf[\n",
        "    (~gdf['year'].eq(1995)) &\n",
        "    (~gdf['month'].between(8, 9))\n",
        "]\n",
        "\n",
        "# Visualize the filtered data distribution\n",
        "plot_data_distribution(filtered_gdf)"
      ],
      "metadata": {
        "id": "k1PpbNsGq9qh",
        "outputId": "1c90e189-5c7d-4a60-cef6-6096603f7e97",
        "colab": {
          "base_uri": "https://localhost:8080/",
          "height": 407
        }
      },
      "execution_count": 12,
      "outputs": [
        {
          "output_type": "display_data",
          "data": {
            "text/plain": [
              "<IPython.core.display.HTML object>"
            ],
            "text/html": [
              "\n",
              "            <style>\n",
              "                .geemap-dark {\n",
              "                    --jp-widgets-color: white;\n",
              "                    --jp-widgets-label-color: white;\n",
              "                    --jp-ui-font-color1: white;\n",
              "                    --jp-layout-color2: #454545;\n",
              "                    background-color: #383838;\n",
              "                }\n",
              "                    \n",
              "                .geemap-dark .jupyter-button {\n",
              "                    --jp-layout-color3: #383838;\n",
              "                }\n",
              "                \n",
              "                .geemap-colab {\n",
              "                    background-color: var(--colab-primary-surface-color, white);\n",
              "                }\n",
              "                    \n",
              "                .geemap-colab .jupyter-button {\n",
              "                    --jp-layout-color3: var(--colab-primary-surface-color, white);\n",
              "                }\n",
              "            </style>\n",
              "            "
            ]
          },
          "metadata": {}
        },
        {
          "output_type": "display_data",
          "data": {
            "text/plain": [
              "<Figure size 1200x400 with 2 Axes>"
            ],
            "image/png": "[encoded data removed]"
          },
          "metadata": {}
        }
      ]
    },
    {
      "cell_type": "markdown",
      "source": [
        "Additionally, the use of a heatmap allows us to quickly grasp the frequency of species occurrence by year and month, providing an intuitive visualization of the temporal changes and patterns within the data."
      ],
      "metadata": {
        "id": "-r2fND5nr0dU"
      }
    },
    {
      "cell_type": "code",
      "source": [
        "# Yearly and monthly data distribution heatmap\n",
        "def plot_heatmap(gdf, h_size=8):\n",
        "\n",
        "    statistics = gdf.groupby([\"month\", \"year\"]).size().unstack(fill_value=0)\n",
        "\n",
        "    # Heatmap\n",
        "    plt.figure(figsize=(h_size, h_size-6))\n",
        "    heatmap = plt.imshow(statistics.values, cmap=\"YlOrBr\", origin=\"upper\", aspect=\"auto\")\n",
        "\n",
        "    # Display values above each pixel\n",
        "    for i in range(len(statistics.index)):\n",
        "        for j in range(len(statistics.columns)):\n",
        "            plt.text(j, i, statistics.values[i, j], ha=\"center\", va=\"center\", color=\"black\")\n",
        "\n",
        "    plt.colorbar(heatmap, label=\"Count\")\n",
        "    plt.title(\"Monthly Species Count by Year\")\n",
        "    plt.xlabel(\"Year\")\n",
        "    plt.ylabel(\"Month\")\n",
        "    plt.xticks(range(len(statistics.columns)), statistics.columns)\n",
        "    plt.yticks(range(len(statistics.index)), statistics.index)\n",
        "    plt.tight_layout()\n",
        "    plt.savefig('heatmap_plot.png')\n",
        "    plt.show()\n",
        "    print(gdf.groupby([\"month\", \"year\"]).size().unstack(fill_value=0))  # Display the data statistics"
      ],
      "metadata": {
        "id": "Iju-dNZErzkJ",
        "outputId": "2d39d407-8d38-4e88-87f2-10124086e104",
        "colab": {
          "base_uri": "https://localhost:8080/",
          "height": 17
        }
      },
      "execution_count": 13,
      "outputs": [
        {
          "output_type": "display_data",
          "data": {
            "text/plain": [
              "<IPython.core.display.HTML object>"
            ],
            "text/html": [
              "\n",
              "            <style>\n",
              "                .geemap-dark {\n",
              "                    --jp-widgets-color: white;\n",
              "                    --jp-widgets-label-color: white;\n",
              "                    --jp-ui-font-color1: white;\n",
              "                    --jp-layout-color2: #454545;\n",
              "                    background-color: #383838;\n",
              "                }\n",
              "                    \n",
              "                .geemap-dark .jupyter-button {\n",
              "                    --jp-layout-color3: #383838;\n",
              "                }\n",
              "                \n",
              "                .geemap-colab {\n",
              "                    background-color: var(--colab-primary-surface-color, white);\n",
              "                }\n",
              "                    \n",
              "                .geemap-colab .jupyter-button {\n",
              "                    --jp-layout-color3: var(--colab-primary-surface-color, white);\n",
              "                }\n",
              "            </style>\n",
              "            "
            ]
          },
          "metadata": {}
        }
      ]
    },
    {
      "cell_type": "code",
      "source": [
        "plot_heatmap(filtered_gdf)"
      ],
      "metadata": {
        "id": "dlW1nIQZrjx3",
        "outputId": "e1b92df6-edab-4d3b-d5d6-d7eccc985aaf",
        "colab": {
          "base_uri": "https://localhost:8080/",
          "height": 298
        }
      },
      "execution_count": 14,
      "outputs": [
        {
          "output_type": "display_data",
          "data": {
            "text/plain": [
              "<IPython.core.display.HTML object>"
            ],
            "text/html": [
              "\n",
              "            <style>\n",
              "                .geemap-dark {\n",
              "                    --jp-widgets-color: white;\n",
              "                    --jp-widgets-label-color: white;\n",
              "                    --jp-ui-font-color1: white;\n",
              "                    --jp-layout-color2: #454545;\n",
              "                    background-color: #383838;\n",
              "                }\n",
              "                    \n",
              "                .geemap-dark .jupyter-button {\n",
              "                    --jp-layout-color3: #383838;\n",
              "                }\n",
              "                \n",
              "                .geemap-colab {\n",
              "                    background-color: var(--colab-primary-surface-color, white);\n",
              "                }\n",
              "                    \n",
              "                .geemap-colab .jupyter-button {\n",
              "                    --jp-layout-color3: var(--colab-primary-surface-color, white);\n",
              "                }\n",
              "            </style>\n",
              "            "
            ]
          },
          "metadata": {}
        },
        {
          "output_type": "display_data",
          "data": {
            "text/plain": [
              "<Figure size 800x200 with 2 Axes>"
            ],
            "image/png": "[encoded data removed]"
          },
          "metadata": {}
        },
        {
          "output_type": "stream",
          "name": "stdout",
          "text": [
            "year   2012  2013  2014  2015  2016  2017  2018  2019  2020  2021  2022  2023\n",
            "month                                                                        \n",
            "5         0     0     5     0     2     1     5     4     5    22     8     1\n",
            "6         0     2     6     1     1     6     0     6    13    35    20     3\n",
            "7         1     0     0     1     0     1     1     7     1    10     8     0\n"
          ]
        }
      ]
    },
    {
      "cell_type": "markdown",
      "source": [
        "Now, the filtered GeoDataFrame is converted into a Google Earth Engine object."
      ],
      "metadata": {
        "id": "jy0BBd-6sdLz"
      }
    },
    {
      "cell_type": "code",
      "source": [
        "# Convert GeoDataFrame to Earth Engine object\n",
        "data_raw = geemap.geopandas_to_ee(filtered_gdf)"
      ],
      "metadata": {
        "id": "Fxu0OsBksMKM",
        "outputId": "5e7004a8-e0ee-4b27-93ec-3a7a359b0a5d",
        "colab": {
          "base_uri": "https://localhost:8080/",
          "height": 17
        }
      },
      "execution_count": 15,
      "outputs": [
        {
          "output_type": "display_data",
          "data": {
            "text/plain": [
              "<IPython.core.display.HTML object>"
            ],
            "text/html": [
              "\n",
              "            <style>\n",
              "                .geemap-dark {\n",
              "                    --jp-widgets-color: white;\n",
              "                    --jp-widgets-label-color: white;\n",
              "                    --jp-ui-font-color1: white;\n",
              "                    --jp-layout-color2: #454545;\n",
              "                    background-color: #383838;\n",
              "                }\n",
              "                    \n",
              "                .geemap-dark .jupyter-button {\n",
              "                    --jp-layout-color3: #383838;\n",
              "                }\n",
              "                \n",
              "                .geemap-colab {\n",
              "                    background-color: var(--colab-primary-surface-color, white);\n",
              "                }\n",
              "                    \n",
              "                .geemap-colab .jupyter-button {\n",
              "                    --jp-layout-color3: var(--colab-primary-surface-color, white);\n",
              "                }\n",
              "            </style>\n",
              "            "
            ]
          },
          "metadata": {}
        }
      ]
    },
    {
      "cell_type": "markdown",
      "source": [
        "Next, we will define the raster pixel size of the SDM results as 1km resolution."
      ],
      "metadata": {
        "id": "55p_GfB6sv3U"
      }
    },
    {
      "cell_type": "code",
      "source": [
        "# Spatial resolution setting (meters)\n",
        "GrainSize = 1000"
      ],
      "metadata": {
        "id": "FsTbNQ17s1l-",
        "outputId": "b18c9435-8539-4ff0-8b50-fa8201baf69d",
        "colab": {
          "base_uri": "https://localhost:8080/",
          "height": 17
        }
      },
      "execution_count": 16,
      "outputs": [
        {
          "output_type": "display_data",
          "data": {
            "text/plain": [
              "<IPython.core.display.HTML object>"
            ],
            "text/html": [
              "\n",
              "            <style>\n",
              "                .geemap-dark {\n",
              "                    --jp-widgets-color: white;\n",
              "                    --jp-widgets-label-color: white;\n",
              "                    --jp-ui-font-color1: white;\n",
              "                    --jp-layout-color2: #454545;\n",
              "                    background-color: #383838;\n",
              "                }\n",
              "                    \n",
              "                .geemap-dark .jupyter-button {\n",
              "                    --jp-layout-color3: #383838;\n",
              "                }\n",
              "                \n",
              "                .geemap-colab {\n",
              "                    background-color: var(--colab-primary-surface-color, white);\n",
              "                }\n",
              "                    \n",
              "                .geemap-colab .jupyter-button {\n",
              "                    --jp-layout-color3: var(--colab-primary-surface-color, white);\n",
              "                }\n",
              "            </style>\n",
              "            "
            ]
          },
          "metadata": {}
        }
      ]
    },
    {
      "cell_type": "markdown",
      "source": [
        "When multiple occurrence points are present within the same 1km resolution raster pixel, there is a high likelihood that they share the same environmental conditions at the same geographic location. Using such data directly in the analysis can introduce bias into the results.\n",
        "\n",
        "In other words, we need to limit the potential impact of geographic sampling bias. To achieve this, we will retain only one location within each 1km pixel and remove all others, allowing the model to more objectively reflect the environmental conditions."
      ],
      "metadata": {
        "id": "A20gAGUZtN6S"
      }
    },
    {
      "cell_type": "code",
      "source": [
        "def remove_duplicates(data, GrainSize):\n",
        "    # Select one occurrence record per pixel at the chosen spatial resolution (1km)\n",
        "    random_raster = ee.Image.random().reproject('EPSG:4326', None, GrainSize)\n",
        "    rand_point_vals = random_raster.sampleRegions(collection=ee.FeatureCollection(data), scale=10, geometries=True)\n",
        "    return rand_point_vals.distinct('random')\n",
        "\n",
        "Data = remove_duplicates(data_raw, GrainSize)\n",
        "\n",
        "# Before selection and after selection\n",
        "print('Original data size:', data_raw.size().getInfo())\n",
        "print('Final data size:', Data.size().getInfo())"
      ],
      "metadata": {
        "id": "dHtyQyMQs82v",
        "outputId": "a3cb25be-98e7-4c7d-9515-2c96226f1cf9",
        "colab": {
          "base_uri": "https://localhost:8080/",
          "height": 53
        }
      },
      "execution_count": 17,
      "outputs": [
        {
          "output_type": "display_data",
          "data": {
            "text/plain": [
              "<IPython.core.display.HTML object>"
            ],
            "text/html": [
              "\n",
              "            <style>\n",
              "                .geemap-dark {\n",
              "                    --jp-widgets-color: white;\n",
              "                    --jp-widgets-label-color: white;\n",
              "                    --jp-ui-font-color1: white;\n",
              "                    --jp-layout-color2: #454545;\n",
              "                    background-color: #383838;\n",
              "                }\n",
              "                    \n",
              "                .geemap-dark .jupyter-button {\n",
              "                    --jp-layout-color3: #383838;\n",
              "                }\n",
              "                \n",
              "                .geemap-colab {\n",
              "                    background-color: var(--colab-primary-surface-color, white);\n",
              "                }\n",
              "                    \n",
              "                .geemap-colab .jupyter-button {\n",
              "                    --jp-layout-color3: var(--colab-primary-surface-color, white);\n",
              "                }\n",
              "            </style>\n",
              "            "
            ]
          },
          "metadata": {}
        },
        {
          "output_type": "stream",
          "name": "stdout",
          "text": [
            "Original data size: 176\n",
            "Final data size: 111\n"
          ]
        }
      ]
    },
    {
      "cell_type": "markdown",
      "source": [
        "The visualization of geographic sampling bias before preprocessing (blue) and after preprocessing (red) is shown below. To facilitate comparison, the map has been centered on an area with a high concentration of Fairy pitta occurrence coordinates."
      ],
      "metadata": {
        "id": "Rhu4b4BxuMHE"
      }
    },
    {
      "cell_type": "code",
      "source": [],
      "metadata": {
        "id": "d9pFgpUztsB-"
      },
      "execution_count": null,
      "outputs": []
    }
  ]
}